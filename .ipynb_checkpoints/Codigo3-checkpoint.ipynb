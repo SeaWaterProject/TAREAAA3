{
 "cells": [
  {
   "cell_type": "code",
   "execution_count": 5,
   "id": "c71f1104-0514-484c-9d4e-b474314836f4",
   "metadata": {},
   "outputs": [],
   "source": [
    "#PARTE 1\n",
    "\n",
    "# link to repo - common to all files\n",
    "import pandas as pd\n",
    "dataRepo='https://seawaterproject.github.io/TAREAAA3/archivos_tarea/'\n"
   ]
  },
  {
   "cell_type": "code",
   "execution_count": 6,
   "id": "f9ec76d8-6534-4f35-b4a6-7437cb196b12",
   "metadata": {},
   "outputs": [
    {
     "data": {
      "text/plain": [
       "['level1.xlsx', 'level2.xlsx', 'level3.xlsx', 'level4.xlsx']"
      ]
     },
     "execution_count": 6,
     "metadata": {},
     "output_type": "execute_result"
    }
   ],
   "source": [
    "# creating file names into a list:\n",
    "lev=range(1,5)\n",
    "fileNames=['level'+str(year)+'.xlsx' for year in lev]\n",
    "# list of file names\n",
    "fileNames"
   ]
  },
  {
   "cell_type": "code",
   "execution_count": 7,
   "id": "91075cac-3ef5-4e8b-bb13-0de6d7babfd1",
   "metadata": {},
   "outputs": [
    {
     "data": {
      "text/plain": [
       "['https://seawaterproject.github.io/TAREAAA3/archivos_tarea/level1.xlsx',\n",
       " 'https://seawaterproject.github.io/TAREAAA3/archivos_tarea/level2.xlsx',\n",
       " 'https://seawaterproject.github.io/TAREAAA3/archivos_tarea/level3.xlsx',\n",
       " 'https://seawaterproject.github.io/TAREAAA3/archivos_tarea/level4.xlsx']"
      ]
     },
     "execution_count": 7,
     "metadata": {},
     "output_type": "execute_result"
    }
   ],
   "source": [
    "# creating the url to each file:\n",
    "alltheLinks=[dataRepo+fn for fn in fileNames]\n",
    "alltheLinks"
   ]
  },
  {
   "cell_type": "code",
   "execution_count": 8,
   "id": "fa89827d-6afe-4bec-8a64-fd5ff5de67ad",
   "metadata": {},
   "outputs": [
    {
     "name": "stdout",
     "output_type": "stream",
     "text": [
      "Requirement already satisfied: openpyxl in d:\\anaconda\\envs\\pd-andy\\lib\\site-packages (3.1.2)\n",
      "Requirement already satisfied: et-xmlfile in d:\\anaconda\\envs\\pd-andy\\lib\\site-packages (from openpyxl) (1.1.0)\n"
     ]
    }
   ],
   "source": [
    "!pip install openpyxl"
   ]
  },
  {
   "cell_type": "code",
   "execution_count": 9,
   "id": "465d08c4-25a3-4e70-ba66-e74f9e4c1336",
   "metadata": {},
   "outputs": [
    {
     "ename": "HTTPError",
     "evalue": "HTTP Error 404: Not Found",
     "output_type": "error",
     "traceback": [
      "\u001b[1;31m---------------------------------------------------------------------------\u001b[0m",
      "\u001b[1;31mHTTPError\u001b[0m                                 Traceback (most recent call last)",
      "Cell \u001b[1;32mIn[9], line 4\u001b[0m\n\u001b[0;32m      1\u001b[0m \u001b[38;5;66;03m# creating list of DFs\u001b[39;00m\n\u001b[0;32m      2\u001b[0m \u001b[38;5;28;01mimport\u001b[39;00m \u001b[38;5;21;01mpandas\u001b[39;00m \u001b[38;5;28;01mas\u001b[39;00m \u001b[38;5;21;01mpd\u001b[39;00m\n\u001b[1;32m----> 4\u001b[0m allDFs\u001b[38;5;241m=\u001b[39m[pd\u001b[38;5;241m.\u001b[39mread_excel(link,engine\u001b[38;5;241m=\u001b[39m\u001b[38;5;124m'\u001b[39m\u001b[38;5;124mopenpyxl\u001b[39m\u001b[38;5;124m'\u001b[39m) \u001b[38;5;28;01mfor\u001b[39;00m link \u001b[38;5;129;01min\u001b[39;00m alltheLinks]\n",
      "File \u001b[1;32mD:\\anaconda\\envs\\pd-andy\\Lib\\site-packages\\pandas\\io\\excel\\_base.py:495\u001b[0m, in \u001b[0;36mread_excel\u001b[1;34m(io, sheet_name, header, names, index_col, usecols, dtype, engine, converters, true_values, false_values, skiprows, nrows, na_values, keep_default_na, na_filter, verbose, parse_dates, date_parser, date_format, thousands, decimal, comment, skipfooter, storage_options, dtype_backend, engine_kwargs)\u001b[0m\n\u001b[0;32m    493\u001b[0m \u001b[38;5;28;01mif\u001b[39;00m \u001b[38;5;129;01mnot\u001b[39;00m \u001b[38;5;28misinstance\u001b[39m(io, ExcelFile):\n\u001b[0;32m    494\u001b[0m     should_close \u001b[38;5;241m=\u001b[39m \u001b[38;5;28;01mTrue\u001b[39;00m\n\u001b[1;32m--> 495\u001b[0m     io \u001b[38;5;241m=\u001b[39m ExcelFile(\n\u001b[0;32m    496\u001b[0m         io,\n\u001b[0;32m    497\u001b[0m         storage_options\u001b[38;5;241m=\u001b[39mstorage_options,\n\u001b[0;32m    498\u001b[0m         engine\u001b[38;5;241m=\u001b[39mengine,\n\u001b[0;32m    499\u001b[0m         engine_kwargs\u001b[38;5;241m=\u001b[39mengine_kwargs,\n\u001b[0;32m    500\u001b[0m     )\n\u001b[0;32m    501\u001b[0m \u001b[38;5;28;01melif\u001b[39;00m engine \u001b[38;5;129;01mand\u001b[39;00m engine \u001b[38;5;241m!=\u001b[39m io\u001b[38;5;241m.\u001b[39mengine:\n\u001b[0;32m    502\u001b[0m     \u001b[38;5;28;01mraise\u001b[39;00m \u001b[38;5;167;01mValueError\u001b[39;00m(\n\u001b[0;32m    503\u001b[0m         \u001b[38;5;124m\"\u001b[39m\u001b[38;5;124mEngine should not be specified when passing \u001b[39m\u001b[38;5;124m\"\u001b[39m\n\u001b[0;32m    504\u001b[0m         \u001b[38;5;124m\"\u001b[39m\u001b[38;5;124man ExcelFile - ExcelFile already has the engine set\u001b[39m\u001b[38;5;124m\"\u001b[39m\n\u001b[0;32m    505\u001b[0m     )\n",
      "File \u001b[1;32mD:\\anaconda\\envs\\pd-andy\\Lib\\site-packages\\pandas\\io\\excel\\_base.py:1567\u001b[0m, in \u001b[0;36mExcelFile.__init__\u001b[1;34m(self, path_or_buffer, engine, storage_options, engine_kwargs)\u001b[0m\n\u001b[0;32m   1564\u001b[0m \u001b[38;5;28mself\u001b[39m\u001b[38;5;241m.\u001b[39mengine \u001b[38;5;241m=\u001b[39m engine\n\u001b[0;32m   1565\u001b[0m \u001b[38;5;28mself\u001b[39m\u001b[38;5;241m.\u001b[39mstorage_options \u001b[38;5;241m=\u001b[39m storage_options\n\u001b[1;32m-> 1567\u001b[0m \u001b[38;5;28mself\u001b[39m\u001b[38;5;241m.\u001b[39m_reader \u001b[38;5;241m=\u001b[39m \u001b[38;5;28mself\u001b[39m\u001b[38;5;241m.\u001b[39m_engines[engine](\n\u001b[0;32m   1568\u001b[0m     \u001b[38;5;28mself\u001b[39m\u001b[38;5;241m.\u001b[39m_io,\n\u001b[0;32m   1569\u001b[0m     storage_options\u001b[38;5;241m=\u001b[39mstorage_options,\n\u001b[0;32m   1570\u001b[0m     engine_kwargs\u001b[38;5;241m=\u001b[39mengine_kwargs,\n\u001b[0;32m   1571\u001b[0m )\n",
      "File \u001b[1;32mD:\\anaconda\\envs\\pd-andy\\Lib\\site-packages\\pandas\\io\\excel\\_openpyxl.py:553\u001b[0m, in \u001b[0;36mOpenpyxlReader.__init__\u001b[1;34m(self, filepath_or_buffer, storage_options, engine_kwargs)\u001b[0m\n\u001b[0;32m    541\u001b[0m \u001b[38;5;250m\u001b[39m\u001b[38;5;124;03m\"\"\"\u001b[39;00m\n\u001b[0;32m    542\u001b[0m \u001b[38;5;124;03mReader using openpyxl engine.\u001b[39;00m\n\u001b[0;32m    543\u001b[0m \n\u001b[1;32m   (...)\u001b[0m\n\u001b[0;32m    550\u001b[0m \u001b[38;5;124;03m    Arbitrary keyword arguments passed to excel engine.\u001b[39;00m\n\u001b[0;32m    551\u001b[0m \u001b[38;5;124;03m\"\"\"\u001b[39;00m\n\u001b[0;32m    552\u001b[0m import_optional_dependency(\u001b[38;5;124m\"\u001b[39m\u001b[38;5;124mopenpyxl\u001b[39m\u001b[38;5;124m\"\u001b[39m)\n\u001b[1;32m--> 553\u001b[0m \u001b[38;5;28msuper\u001b[39m()\u001b[38;5;241m.\u001b[39m\u001b[38;5;21m__init__\u001b[39m(\n\u001b[0;32m    554\u001b[0m     filepath_or_buffer,\n\u001b[0;32m    555\u001b[0m     storage_options\u001b[38;5;241m=\u001b[39mstorage_options,\n\u001b[0;32m    556\u001b[0m     engine_kwargs\u001b[38;5;241m=\u001b[39mengine_kwargs,\n\u001b[0;32m    557\u001b[0m )\n",
      "File \u001b[1;32mD:\\anaconda\\envs\\pd-andy\\Lib\\site-packages\\pandas\\io\\excel\\_base.py:563\u001b[0m, in \u001b[0;36mBaseExcelReader.__init__\u001b[1;34m(self, filepath_or_buffer, storage_options, engine_kwargs)\u001b[0m\n\u001b[0;32m    559\u001b[0m \u001b[38;5;28mself\u001b[39m\u001b[38;5;241m.\u001b[39mhandles \u001b[38;5;241m=\u001b[39m IOHandles(\n\u001b[0;32m    560\u001b[0m     handle\u001b[38;5;241m=\u001b[39mfilepath_or_buffer, compression\u001b[38;5;241m=\u001b[39m{\u001b[38;5;124m\"\u001b[39m\u001b[38;5;124mmethod\u001b[39m\u001b[38;5;124m\"\u001b[39m: \u001b[38;5;28;01mNone\u001b[39;00m}\n\u001b[0;32m    561\u001b[0m )\n\u001b[0;32m    562\u001b[0m \u001b[38;5;28;01mif\u001b[39;00m \u001b[38;5;129;01mnot\u001b[39;00m \u001b[38;5;28misinstance\u001b[39m(filepath_or_buffer, (ExcelFile, \u001b[38;5;28mself\u001b[39m\u001b[38;5;241m.\u001b[39m_workbook_class)):\n\u001b[1;32m--> 563\u001b[0m     \u001b[38;5;28mself\u001b[39m\u001b[38;5;241m.\u001b[39mhandles \u001b[38;5;241m=\u001b[39m get_handle(\n\u001b[0;32m    564\u001b[0m         filepath_or_buffer, \u001b[38;5;124m\"\u001b[39m\u001b[38;5;124mrb\u001b[39m\u001b[38;5;124m\"\u001b[39m, storage_options\u001b[38;5;241m=\u001b[39mstorage_options, is_text\u001b[38;5;241m=\u001b[39m\u001b[38;5;28;01mFalse\u001b[39;00m\n\u001b[0;32m    565\u001b[0m     )\n\u001b[0;32m    567\u001b[0m \u001b[38;5;28;01mif\u001b[39;00m \u001b[38;5;28misinstance\u001b[39m(\u001b[38;5;28mself\u001b[39m\u001b[38;5;241m.\u001b[39mhandles\u001b[38;5;241m.\u001b[39mhandle, \u001b[38;5;28mself\u001b[39m\u001b[38;5;241m.\u001b[39m_workbook_class):\n\u001b[0;32m    568\u001b[0m     \u001b[38;5;28mself\u001b[39m\u001b[38;5;241m.\u001b[39mbook \u001b[38;5;241m=\u001b[39m \u001b[38;5;28mself\u001b[39m\u001b[38;5;241m.\u001b[39mhandles\u001b[38;5;241m.\u001b[39mhandle\n",
      "File \u001b[1;32mD:\\anaconda\\envs\\pd-andy\\Lib\\site-packages\\pandas\\io\\common.py:728\u001b[0m, in \u001b[0;36mget_handle\u001b[1;34m(path_or_buf, mode, encoding, compression, memory_map, is_text, errors, storage_options)\u001b[0m\n\u001b[0;32m    725\u001b[0m     codecs\u001b[38;5;241m.\u001b[39mlookup_error(errors)\n\u001b[0;32m    727\u001b[0m \u001b[38;5;66;03m# open URLs\u001b[39;00m\n\u001b[1;32m--> 728\u001b[0m ioargs \u001b[38;5;241m=\u001b[39m _get_filepath_or_buffer(\n\u001b[0;32m    729\u001b[0m     path_or_buf,\n\u001b[0;32m    730\u001b[0m     encoding\u001b[38;5;241m=\u001b[39mencoding,\n\u001b[0;32m    731\u001b[0m     compression\u001b[38;5;241m=\u001b[39mcompression,\n\u001b[0;32m    732\u001b[0m     mode\u001b[38;5;241m=\u001b[39mmode,\n\u001b[0;32m    733\u001b[0m     storage_options\u001b[38;5;241m=\u001b[39mstorage_options,\n\u001b[0;32m    734\u001b[0m )\n\u001b[0;32m    736\u001b[0m handle \u001b[38;5;241m=\u001b[39m ioargs\u001b[38;5;241m.\u001b[39mfilepath_or_buffer\n\u001b[0;32m    737\u001b[0m handles: \u001b[38;5;28mlist\u001b[39m[BaseBuffer]\n",
      "File \u001b[1;32mD:\\anaconda\\envs\\pd-andy\\Lib\\site-packages\\pandas\\io\\common.py:384\u001b[0m, in \u001b[0;36m_get_filepath_or_buffer\u001b[1;34m(filepath_or_buffer, encoding, compression, mode, storage_options)\u001b[0m\n\u001b[0;32m    382\u001b[0m \u001b[38;5;66;03m# assuming storage_options is to be interpreted as headers\u001b[39;00m\n\u001b[0;32m    383\u001b[0m req_info \u001b[38;5;241m=\u001b[39m urllib\u001b[38;5;241m.\u001b[39mrequest\u001b[38;5;241m.\u001b[39mRequest(filepath_or_buffer, headers\u001b[38;5;241m=\u001b[39mstorage_options)\n\u001b[1;32m--> 384\u001b[0m \u001b[38;5;28;01mwith\u001b[39;00m urlopen(req_info) \u001b[38;5;28;01mas\u001b[39;00m req:\n\u001b[0;32m    385\u001b[0m     content_encoding \u001b[38;5;241m=\u001b[39m req\u001b[38;5;241m.\u001b[39mheaders\u001b[38;5;241m.\u001b[39mget(\u001b[38;5;124m\"\u001b[39m\u001b[38;5;124mContent-Encoding\u001b[39m\u001b[38;5;124m\"\u001b[39m, \u001b[38;5;28;01mNone\u001b[39;00m)\n\u001b[0;32m    386\u001b[0m     \u001b[38;5;28;01mif\u001b[39;00m content_encoding \u001b[38;5;241m==\u001b[39m \u001b[38;5;124m\"\u001b[39m\u001b[38;5;124mgzip\u001b[39m\u001b[38;5;124m\"\u001b[39m:\n\u001b[0;32m    387\u001b[0m         \u001b[38;5;66;03m# Override compression based on Content-Encoding header\u001b[39;00m\n",
      "File \u001b[1;32mD:\\anaconda\\envs\\pd-andy\\Lib\\site-packages\\pandas\\io\\common.py:289\u001b[0m, in \u001b[0;36murlopen\u001b[1;34m(*args, **kwargs)\u001b[0m\n\u001b[0;32m    283\u001b[0m \u001b[38;5;250m\u001b[39m\u001b[38;5;124;03m\"\"\"\u001b[39;00m\n\u001b[0;32m    284\u001b[0m \u001b[38;5;124;03mLazy-import wrapper for stdlib urlopen, as that imports a big chunk of\u001b[39;00m\n\u001b[0;32m    285\u001b[0m \u001b[38;5;124;03mthe stdlib.\u001b[39;00m\n\u001b[0;32m    286\u001b[0m \u001b[38;5;124;03m\"\"\"\u001b[39;00m\n\u001b[0;32m    287\u001b[0m \u001b[38;5;28;01mimport\u001b[39;00m \u001b[38;5;21;01murllib\u001b[39;00m\u001b[38;5;21;01m.\u001b[39;00m\u001b[38;5;21;01mrequest\u001b[39;00m\n\u001b[1;32m--> 289\u001b[0m \u001b[38;5;28;01mreturn\u001b[39;00m urllib\u001b[38;5;241m.\u001b[39mrequest\u001b[38;5;241m.\u001b[39murlopen(\u001b[38;5;241m*\u001b[39margs, \u001b[38;5;241m*\u001b[39m\u001b[38;5;241m*\u001b[39mkwargs)\n",
      "File \u001b[1;32mD:\\anaconda\\envs\\pd-andy\\Lib\\urllib\\request.py:215\u001b[0m, in \u001b[0;36murlopen\u001b[1;34m(url, data, timeout, cafile, capath, cadefault, context)\u001b[0m\n\u001b[0;32m    213\u001b[0m \u001b[38;5;28;01melse\u001b[39;00m:\n\u001b[0;32m    214\u001b[0m     opener \u001b[38;5;241m=\u001b[39m _opener\n\u001b[1;32m--> 215\u001b[0m \u001b[38;5;28;01mreturn\u001b[39;00m opener\u001b[38;5;241m.\u001b[39mopen(url, data, timeout)\n",
      "File \u001b[1;32mD:\\anaconda\\envs\\pd-andy\\Lib\\urllib\\request.py:521\u001b[0m, in \u001b[0;36mOpenerDirector.open\u001b[1;34m(self, fullurl, data, timeout)\u001b[0m\n\u001b[0;32m    519\u001b[0m \u001b[38;5;28;01mfor\u001b[39;00m processor \u001b[38;5;129;01min\u001b[39;00m \u001b[38;5;28mself\u001b[39m\u001b[38;5;241m.\u001b[39mprocess_response\u001b[38;5;241m.\u001b[39mget(protocol, []):\n\u001b[0;32m    520\u001b[0m     meth \u001b[38;5;241m=\u001b[39m \u001b[38;5;28mgetattr\u001b[39m(processor, meth_name)\n\u001b[1;32m--> 521\u001b[0m     response \u001b[38;5;241m=\u001b[39m meth(req, response)\n\u001b[0;32m    523\u001b[0m \u001b[38;5;28;01mreturn\u001b[39;00m response\n",
      "File \u001b[1;32mD:\\anaconda\\envs\\pd-andy\\Lib\\urllib\\request.py:630\u001b[0m, in \u001b[0;36mHTTPErrorProcessor.http_response\u001b[1;34m(self, request, response)\u001b[0m\n\u001b[0;32m    627\u001b[0m \u001b[38;5;66;03m# According to RFC 2616, \"2xx\" code indicates that the client's\u001b[39;00m\n\u001b[0;32m    628\u001b[0m \u001b[38;5;66;03m# request was successfully received, understood, and accepted.\u001b[39;00m\n\u001b[0;32m    629\u001b[0m \u001b[38;5;28;01mif\u001b[39;00m \u001b[38;5;129;01mnot\u001b[39;00m (\u001b[38;5;241m200\u001b[39m \u001b[38;5;241m<\u001b[39m\u001b[38;5;241m=\u001b[39m code \u001b[38;5;241m<\u001b[39m \u001b[38;5;241m300\u001b[39m):\n\u001b[1;32m--> 630\u001b[0m     response \u001b[38;5;241m=\u001b[39m \u001b[38;5;28mself\u001b[39m\u001b[38;5;241m.\u001b[39mparent\u001b[38;5;241m.\u001b[39merror(\n\u001b[0;32m    631\u001b[0m         \u001b[38;5;124m'\u001b[39m\u001b[38;5;124mhttp\u001b[39m\u001b[38;5;124m'\u001b[39m, request, response, code, msg, hdrs)\n\u001b[0;32m    633\u001b[0m \u001b[38;5;28;01mreturn\u001b[39;00m response\n",
      "File \u001b[1;32mD:\\anaconda\\envs\\pd-andy\\Lib\\urllib\\request.py:559\u001b[0m, in \u001b[0;36mOpenerDirector.error\u001b[1;34m(self, proto, *args)\u001b[0m\n\u001b[0;32m    557\u001b[0m \u001b[38;5;28;01mif\u001b[39;00m http_err:\n\u001b[0;32m    558\u001b[0m     args \u001b[38;5;241m=\u001b[39m (\u001b[38;5;28mdict\u001b[39m, \u001b[38;5;124m'\u001b[39m\u001b[38;5;124mdefault\u001b[39m\u001b[38;5;124m'\u001b[39m, \u001b[38;5;124m'\u001b[39m\u001b[38;5;124mhttp_error_default\u001b[39m\u001b[38;5;124m'\u001b[39m) \u001b[38;5;241m+\u001b[39m orig_args\n\u001b[1;32m--> 559\u001b[0m     \u001b[38;5;28;01mreturn\u001b[39;00m \u001b[38;5;28mself\u001b[39m\u001b[38;5;241m.\u001b[39m_call_chain(\u001b[38;5;241m*\u001b[39margs)\n",
      "File \u001b[1;32mD:\\anaconda\\envs\\pd-andy\\Lib\\urllib\\request.py:492\u001b[0m, in \u001b[0;36mOpenerDirector._call_chain\u001b[1;34m(self, chain, kind, meth_name, *args)\u001b[0m\n\u001b[0;32m    490\u001b[0m \u001b[38;5;28;01mfor\u001b[39;00m handler \u001b[38;5;129;01min\u001b[39;00m handlers:\n\u001b[0;32m    491\u001b[0m     func \u001b[38;5;241m=\u001b[39m \u001b[38;5;28mgetattr\u001b[39m(handler, meth_name)\n\u001b[1;32m--> 492\u001b[0m     result \u001b[38;5;241m=\u001b[39m func(\u001b[38;5;241m*\u001b[39margs)\n\u001b[0;32m    493\u001b[0m     \u001b[38;5;28;01mif\u001b[39;00m result \u001b[38;5;129;01mis\u001b[39;00m \u001b[38;5;129;01mnot\u001b[39;00m \u001b[38;5;28;01mNone\u001b[39;00m:\n\u001b[0;32m    494\u001b[0m         \u001b[38;5;28;01mreturn\u001b[39;00m result\n",
      "File \u001b[1;32mD:\\anaconda\\envs\\pd-andy\\Lib\\urllib\\request.py:639\u001b[0m, in \u001b[0;36mHTTPDefaultErrorHandler.http_error_default\u001b[1;34m(self, req, fp, code, msg, hdrs)\u001b[0m\n\u001b[0;32m    638\u001b[0m \u001b[38;5;28;01mdef\u001b[39;00m \u001b[38;5;21mhttp_error_default\u001b[39m(\u001b[38;5;28mself\u001b[39m, req, fp, code, msg, hdrs):\n\u001b[1;32m--> 639\u001b[0m     \u001b[38;5;28;01mraise\u001b[39;00m HTTPError(req\u001b[38;5;241m.\u001b[39mfull_url, code, msg, hdrs, fp)\n",
      "\u001b[1;31mHTTPError\u001b[0m: HTTP Error 404: Not Found"
     ]
    }
   ],
   "source": [
    "# creating list of DFs\n",
    "import pandas as pd\n",
    "\n",
    "allDFs=[pd.read_excel(link,engine='openpyxl') for link in alltheLinks]"
   ]
  },
  {
   "cell_type": "code",
   "execution_count": null,
   "id": "b351f0ad-e471-440a-a786-908456e32e18",
   "metadata": {},
   "outputs": [],
   "source": [
    "#Cleaning DFS row\n",
    "allDFs[0].head()"
   ]
  },
  {
   "cell_type": "code",
   "execution_count": null,
   "id": "1acc620e-4ea1-4fa5-8c11-14438644b807",
   "metadata": {},
   "outputs": [],
   "source": [
    "allDFs[1].head()"
   ]
  },
  {
   "cell_type": "code",
   "execution_count": null,
   "id": "d735f272-414b-4747-b2db-6618d97cbc1c",
   "metadata": {},
   "outputs": [],
   "source": [
    "allDFs[2].head()"
   ]
  },
  {
   "cell_type": "code",
   "execution_count": null,
   "id": "79d2e612-e8d4-4e6f-a259-b82b029b4add",
   "metadata": {},
   "outputs": [],
   "source": [
    "allDFs[3].head()"
   ]
  },
  {
   "cell_type": "code",
   "execution_count": null,
   "id": "7c9ebc4d-d173-42bd-88e6-c7a324987a62",
   "metadata": {},
   "outputs": [],
   "source": [
    "allDFs[0].columns=allDFs[0].iloc[3, :].tolist()\n",
    "allDFs[0].head()"
   ]
  },
  {
   "cell_type": "code",
   "execution_count": null,
   "id": "5d77dc6b-8905-4e5f-927d-7721d7638acd",
   "metadata": {},
   "outputs": [],
   "source": [
    "column_names= allDFs[0].columns.tolist()\n",
    "column_names"
   ]
  },
  {
   "cell_type": "code",
   "execution_count": null,
   "id": "4c9dff9f-c13f-4a23-a905-471f0406efdb",
   "metadata": {},
   "outputs": [],
   "source": [
    "# Contador para las apariciones de 'HDI rank'\n",
    "count = 0\n",
    "\n",
    "# Iterando a través de la lista\n",
    "for i, col in enumerate(column_names):\n",
    "    if col == 'HDI rank':\n",
    "        count += 1\n",
    "        # Si es la segunda aparición, renombrar\n",
    "        if count == 2:\n",
    "            column_names[i] = 'HDI rank.1'\n",
    "            break\n",
    "\n",
    "column_names"
   ]
  },
  {
   "cell_type": "code",
   "execution_count": null,
   "id": "3d4d7f78-d8c1-4d41-9d86-5fb84e72105d",
   "metadata": {},
   "outputs": [],
   "source": [
    "allDFs[0].columns=column_names\n",
    "allDFs[0].head()"
   ]
  },
  {
   "cell_type": "code",
   "execution_count": null,
   "id": "8cd1220f-6687-4772-9fe1-23e120c109fb",
   "metadata": {},
   "outputs": [],
   "source": [
    "#Creating a function to clean the rows\n",
    "\n",
    "def clean_rows(df, column_name):\n",
    "        df[column_name] = pd.to_numeric(df[column_name], errors='coerce')\n",
    "        cleaned_df = df.dropna(subset=[column_name])\n",
    "        return cleaned_df"
   ]
  },
  {
   "cell_type": "code",
   "execution_count": null,
   "id": "a6e642fd-d4a1-4063-8dcb-0a9cc18db02b",
   "metadata": {},
   "outputs": [],
   "source": [
    "# Cleaning each Data Frame using the function\n",
    "allDFs = [clean_rows(df, 'HDI rank') for df in allDFs]"
   ]
  },
  {
   "cell_type": "code",
   "execution_count": null,
   "id": "a40e0304-dccf-4f13-8232-8e5f003d0731",
   "metadata": {},
   "outputs": [],
   "source": [
    "allDFs[0].head(3)"
   ]
  },
  {
   "cell_type": "code",
   "execution_count": null,
   "id": "320eafb4-375e-43eb-b0af-5c93f819badc",
   "metadata": {},
   "outputs": [],
   "source": [
    "allDFs[1].head(3)"
   ]
  },
  {
   "cell_type": "code",
   "execution_count": null,
   "id": "45399945-e689-466b-9e52-fc29e74cdcda",
   "metadata": {},
   "outputs": [],
   "source": [
    "allDFs[2].head(3)"
   ]
  },
  {
   "cell_type": "code",
   "execution_count": null,
   "id": "f577c81c-ba10-4cb9-a177-0436c0007616",
   "metadata": {},
   "outputs": [],
   "source": [
    "allDFs[3].head(3)"
   ]
  },
  {
   "cell_type": "code",
   "execution_count": null,
   "id": "51f2cfd2-1233-419b-926d-0a33816ba208",
   "metadata": {},
   "outputs": [],
   "source": [
    "#APPENDING\n",
    "\n",
    "# saving column names\n",
    "allColumnNames=[]\n",
    "for df in allDFs:\n",
    "    allColumnNames.append(set(df.columns))"
   ]
  },
  {
   "cell_type": "code",
   "execution_count": null,
   "id": "5e2d251c-f5e5-47ac-9fc0-f5e42391d6fe",
   "metadata": {},
   "outputs": [],
   "source": [
    "# checking how many columns per df\n",
    "[len(cols) for cols in allColumnNames]"
   ]
  },
  {
   "cell_type": "code",
   "execution_count": null,
   "id": "c8dc890a-96bd-4995-bd8c-b3551fa66536",
   "metadata": {},
   "outputs": [],
   "source": [
    "# details of common columns\n",
    "commonColumns=set.intersection(*allColumnNames)\n",
    "len(commonColumns),commonColumns"
   ]
  },
  {
   "cell_type": "code",
   "execution_count": null,
   "id": "bac5e26b-11f1-4c67-9f9a-6ef8f58f5bff",
   "metadata": {},
   "outputs": [],
   "source": [
    "# all minus the common\n",
    "set.union(*allColumnNames)-commonColumns"
   ]
  },
  {
   "cell_type": "code",
   "execution_count": null,
   "id": "c19cd233-74d1-43b3-9cd8-17d61a222ca2",
   "metadata": {},
   "outputs": [],
   "source": [
    "# DFs with the common columns\n",
    "allDFs_sameNames=[df.loc[:,list(commonColumns)] for df in allDFs]\n",
    "allDFs_sameNames=[df.reset_index(drop=True) for df in allDFs_sameNames]"
   ]
  },
  {
   "cell_type": "code",
   "execution_count": null,
   "id": "041805d4-1dc5-4681-bcc7-5536d7bc1d00",
   "metadata": {},
   "outputs": [],
   "source": [
    "# appending\n",
    "allDFsConcat=pd.concat(allDFs_sameNames)\n",
    "allDFsConcat"
   ]
  },
  {
   "cell_type": "code",
   "execution_count": null,
   "id": "75f51b87-70f0-41dc-9965-4f715949a07c",
   "metadata": {},
   "outputs": [],
   "source": [
    "#Ordenando\n",
    "allDFsConcat.set_index(['HDI rank', 'Country'],inplace=True)\n",
    "allDFsConcat.head()"
   ]
  },
  {
   "cell_type": "code",
   "execution_count": null,
   "id": "606766da-1e85-4331-83ac-305e3a5c15ad",
   "metadata": {},
   "outputs": [],
   "source": [
    "# ordering column names alphabetically\n",
    "allDFsConcat.sort_index(axis=1,inplace=True) # by row index will be axis=0\n",
    "allDFsConcat"
   ]
  },
  {
   "cell_type": "code",
   "execution_count": null,
   "id": "adb68524-2991-4e2e-b4f9-4d42398f4e67",
   "metadata": {},
   "outputs": [],
   "source": [
    "# indexes will be columns\n",
    "allDFsConcat.reset_index(inplace=True)\n",
    "allDFsConcat"
   ]
  },
  {
   "cell_type": "code",
   "execution_count": null,
   "id": "f048a5ea-9357-473a-b63d-b68772238770",
   "metadata": {},
   "outputs": [],
   "source": [
    "# see column names\n",
    "allDFsConcat.columns.to_list()"
   ]
  },
  {
   "cell_type": "code",
   "execution_count": null,
   "id": "5893c9d0-f783-4e9f-be93-e38a3952fd21",
   "metadata": {},
   "outputs": [],
   "source": [
    "# clean column names\n",
    "allDFsConcat.columns=allDFsConcat.columns.str.replace('/(/w*/s*/w*/W*/)','',regex=True).str.title().str.replace(\"/s\",\"_\",regex=True)\n",
    "\n",
    "#see\n",
    "allDFsConcat.columns.to_list()"
   ]
  },
  {
   "cell_type": "code",
   "execution_count": null,
   "id": "a95cd846-df15-4168-81a3-2978c886c97d",
   "metadata": {},
   "outputs": [],
   "source": [
    "# overwriting country\n",
    "allDFsConcat.Country=allDFsConcat.Country.str.upper()\n",
    "\n",
    "allDFsConcat.Country"
   ]
  },
  {
   "cell_type": "code",
   "execution_count": null,
   "id": "eb09822f-64be-45cc-bc12-f4fd8a4ddfda",
   "metadata": {},
   "outputs": [],
   "source": [
    "allDFsConcat.info()"
   ]
  },
  {
   "cell_type": "code",
   "execution_count": null,
   "id": "c0e675c2-6c6c-4b83-adfe-44c867f1dd00",
   "metadata": {},
   "outputs": [],
   "source": [
    "allDFsConcat.rename(columns={'Expected Years Of Schooling': 'YearsSchooling'}, inplace=True)\n",
    "allDFsConcat"
   ]
  },
  {
   "cell_type": "code",
   "execution_count": null,
   "id": "f6f85e35-accc-4e25-a66c-eed86635acb2",
   "metadata": {},
   "outputs": [],
   "source": [
    "allDFsConcat.YearsSchooling.value_counts()"
   ]
  },
  {
   "cell_type": "code",
   "execution_count": null,
   "id": "817bc950-98a6-4665-b2d9-bbbf90f514b0",
   "metadata": {},
   "outputs": [],
   "source": [
    "columns_to_convert = allDFsConcat.columns.difference(['Country'])\n",
    "allDFsConcat[columns_to_convert] = allDFsConcat[columns_to_convert].apply(pd.to_numeric, errors='coerce')"
   ]
  },
  {
   "cell_type": "code",
   "execution_count": null,
   "id": "61843ada-8ef0-4a3b-9d2b-184f7904b376",
   "metadata": {},
   "outputs": [],
   "source": [
    "allDFsConcat.info()"
   ]
  },
  {
   "cell_type": "code",
   "execution_count": null,
   "id": "bedecb63-6c72-47bd-9bfa-276c50dffea2",
   "metadata": {},
   "outputs": [],
   "source": [
    "allDFsConcat"
   ]
  },
  {
   "cell_type": "code",
   "execution_count": null,
   "id": "9d8089a5-c7fa-466a-84fb-eba50b9cdb8c",
   "metadata": {},
   "outputs": [],
   "source": [
    "#PARTE 2\n",
    "\n",
    "data=allDFsConcat.copy()\n",
    "\n",
    "countryCodesLink = 'https://seawaterproject.github.io/TAREAAA3/archivo_2/countryCODES.xlsx'\n",
    "countryCodes=pd.read_excel(countryCodesLink)\n",
    "countryCodes"
   ]
  },
  {
   "cell_type": "code",
   "execution_count": null,
   "id": "070437d1-8f05-49de-a68d-4a6162f2f8b1",
   "metadata": {},
   "outputs": [],
   "source": [
    "data.shape,countryCodes.shape"
   ]
  },
  {
   "cell_type": "code",
   "execution_count": null,
   "id": "20cd1644-5d47-4fc3-b7ea-8eb1539c5da4",
   "metadata": {},
   "outputs": [],
   "source": [
    "# Countries in 'countryCodes' but NOT in 'data'\n",
    "onlyCodes=set(countryCodes.Country)-set(data.Country)\n",
    "onlyCodes"
   ]
  },
  {
   "cell_type": "code",
   "execution_count": null,
   "id": "4b23ab94-5767-469a-aa37-002364751aa7",
   "metadata": {},
   "outputs": [],
   "source": [
    "# Countries in 'data' but NOT in 'countryCodes'\n",
    "onlyData=set(data.Country)-set(countryCodes.Country)\n",
    "onlyData"
   ]
  },
  {
   "cell_type": "code",
   "execution_count": null,
   "id": "1f830b71-cdd1-46ae-aa5d-128f75ab1de1",
   "metadata": {},
   "outputs": [],
   "source": [
    "!pip install thefuzz"
   ]
  },
  {
   "cell_type": "code",
   "execution_count": null,
   "id": "0341ddcd-563a-4b5c-a77e-04c5e61a7a04",
   "metadata": {},
   "outputs": [],
   "source": [
    "from thefuzz import process as fz\n",
    "\n",
    "# look for a country in OnlyCodes and return the most similar\n",
    "[(c,fz.extractOne(c,onlyData)) for c in sorted(onlyCodes)]"
   ]
  },
  {
   "cell_type": "code",
   "execution_count": null,
   "id": "2ee967ac-75dc-4334-b763-7a9a54f9c22a",
   "metadata": {},
   "outputs": [],
   "source": [
    "#keeping the best ones\n",
    "[(c,fz.extractOne(c, onlyData)) for c in sorted(onlyCodes)\n",
    " if fz.extractOne(c, onlyData)[1]>=67]"
   ]
  },
  {
   "cell_type": "code",
   "execution_count": null,
   "id": "49a2a5bc-506f-430c-a93d-92e96a7d486e",
   "metadata": {},
   "outputs": [],
   "source": [
    "#Creating a dictionary with the matches found\n",
    "changesCodes={c:fz.extractOne(c, onlyData)[0]\n",
    "                 for c in sorted(onlyCodes)\n",
    "                 if fz.extractOne(c, onlyData)[1] >=67}\n",
    "#dict of matches\n",
    "changesCodes"
   ]
  },
  {
   "cell_type": "code",
   "execution_count": null,
   "id": "a5b971c4-1e3c-471e-81c0-6ea9c0432fc5",
   "metadata": {},
   "outputs": [],
   "source": [
    "#Replacing in countryCodes\n",
    "countryCodes.replace(to_replace={'Country':changesCodes},inplace=True)"
   ]
  },
  {
   "cell_type": "code",
   "execution_count": null,
   "id": "b96b3bf9-df8e-4791-9eec-01560b4f149c",
   "metadata": {},
   "outputs": [],
   "source": [
    "# second try\n",
    "\n",
    "onlyCodes=set(countryCodes.Country)-set(data.Country)\n",
    "onlyData=set(data.Country)-set(countryCodes.Country)\n",
    "[(c,fz.extractOne(c,onlyData )) for c in sorted(onlyCodes)]"
   ]
  },
  {
   "cell_type": "code",
   "execution_count": null,
   "id": "dc67af4a-477a-4125-a6fe-acb260eae7b5",
   "metadata": {},
   "outputs": [],
   "source": [
    "datacodes=data.merge(countryCodes)\n",
    "datacodes"
   ]
  },
  {
   "cell_type": "code",
   "execution_count": null,
   "id": "e7113dec-39a2-4e6a-a6c3-4fdcfe76b90b",
   "metadata": {},
   "outputs": [],
   "source": [
    "datacodes.info()"
   ]
  },
  {
   "cell_type": "code",
   "execution_count": null,
   "id": "a84ecc2d-5898-439b-9ffa-4a2869b7973e",
   "metadata": {},
   "outputs": [],
   "source": [
    "#PARTE 3\n",
    "\n",
    "#LEER DATOS\n",
    "\n",
    "import os, pandas as pd\n",
    "fragcia=pd.read_csv(\"https://raw.githubusercontent.com/SeaWaterProject/TAREAAA3/main/archivos_tarea2/fallecidosCOVID.csv\")\n",
    "fragcia.info()\n",
    "d=fragcia.copy()\n",
    "d1=fragcia.copy()"
   ]
  },
  {
   "cell_type": "code",
   "execution_count": null,
   "id": "c1b65098-300e-47f3-9933-2120bd1660a9",
   "metadata": {},
   "outputs": [],
   "source": [
    "#Guardar los nombres de las columnas\n",
    "c=d.columns.str.split(\";\")\n",
    "col=c[0\n",
    "]"
   ]
  },
  {
   "cell_type": "code",
   "execution_count": null,
   "id": "8f39d839-59f9-41f0-8c9e-df3ced01eb38",
   "metadata": {},
   "outputs": [],
   "source": [
    "#Separar columnas\n",
    "d.rename(columns={d.columns[0]:\"a\"},inplace=True)\n",
    "d=d.a.str.split(\";\",expand=True)\n",
    "d.info()"
   ]
  },
  {
   "cell_type": "code",
   "execution_count": null,
   "id": "ec74b7cc-6d47-4be9-bbdf-8d829523af27",
   "metadata": {},
   "outputs": [],
   "source": [
    "newCol={0:col[0],1:col[1],2:col[2],3:col[3],4:col[4],5:col[5],6:col[6],7:col[7],8:col[8],9:col[9]}\n",
    "d.rename(columns=newCol,inplace=True)\n",
    "d.info()"
   ]
  },
  {
   "cell_type": "code",
   "execution_count": null,
   "id": "1a5598ba-e734-4fb3-b3ae-c50bbd9366ef",
   "metadata": {},
   "outputs": [],
   "source": [
    "d.head()"
   ]
  },
  {
   "cell_type": "code",
   "execution_count": null,
   "id": "d8a46b02-f992-4575-a22f-ccbc74f7943f",
   "metadata": {},
   "outputs": [],
   "source": [
    "byecolumns=[\"FECHA_CORTE\",\"EDAD_DECLARADA\",\"SEXO\",\"CLASIFICACION_DEF\",\"DEPARTAMENTO\",\"PROVINCIA\",\"DISTRITO\",\"UBIGEO\",\"UUID\"]\n",
    "d.drop(columns=byecolumns,inplace=True)\n",
    "d"
   ]
  },
  {
   "cell_type": "code",
   "execution_count": null,
   "id": "13ace00c-5053-4860-bacf-6f97e6de6c33",
   "metadata": {},
   "outputs": [],
   "source": [
    "d.FECHA_FALLECIMIENTO=pd.to_datetime(d.FECHA_FALLECIMIENTO)\n",
    "d"
   ]
  },
  {
   "cell_type": "code",
   "execution_count": null,
   "id": "ac1df618-63d2-408b-928d-fe41d0ffa894",
   "metadata": {},
   "outputs": [],
   "source": [
    "d.FECHA_FALLECIMIENTO = d.FECHA_FALLECIMIENTO.dt.strftime('%Y-%m')\n",
    "d"
   ]
  },
  {
   "cell_type": "code",
   "execution_count": null,
   "id": "9ce778a4-3f76-40f7-9846-6032bc67981f",
   "metadata": {},
   "outputs": [],
   "source": [
    "d = d.assign(CANTIDAD_FALLECIDOS=1)\n",
    "d"
   ]
  },
  {
   "cell_type": "code",
   "execution_count": null,
   "id": "c2d9aedb-dd0f-41ee-9a23-fda8aa9d30e6",
   "metadata": {},
   "outputs": [],
   "source": [
    "# sum of cases by region\n",
    "varsAggregated=['CANTIDAD_FALLECIDOS']\n",
    "functionForVars='sum'\n",
    "df=d.groupby('FECHA_FALLECIMIENTO')[varsAggregated].agg(functionForVars)\n",
    "df"
   ]
  },
  {
   "cell_type": "code",
   "execution_count": null,
   "id": "a09ccb2a-cbf4-477d-b9cd-6d2f90813b29",
   "metadata": {},
   "outputs": [],
   "source": [
    "#PARTE 4\n",
    "\n",
    "#Guardar los nombres de las columnas\n",
    "c=d1.columns.str.split(\";\")\n",
    "col=c[0\n",
    "]"
   ]
  },
  {
   "cell_type": "code",
   "execution_count": null,
   "id": "3d0ce0b1-5840-4897-96a3-4317eac85150",
   "metadata": {},
   "outputs": [],
   "source": [
    "#Separar columnas\n",
    "d1.rename(columns={d1.columns[0]:\"a\"},inplace=True)\n",
    "d1=d1.a.str.split(\";\",expand=True)\n",
    "d1.info()"
   ]
  },
  {
   "cell_type": "code",
   "execution_count": null,
   "id": "6e7fc341-8cce-46b9-9069-7845007606c7",
   "metadata": {},
   "outputs": [],
   "source": [
    "newCol={0:col[0],1:col[1],2:col[2],3:col[3],4:col[4],5:col[5],6:col[6],7:col[7],8:col[8],9:col[9]}\n",
    "d1.rename(columns=newCol,inplace=True)\n",
    "d1.info()"
   ]
  },
  {
   "cell_type": "code",
   "execution_count": null,
   "id": "f4761344-efba-4d22-81bf-142800a67f5b",
   "metadata": {},
   "outputs": [],
   "source": [
    "d1.head()"
   ]
  },
  {
   "cell_type": "code",
   "execution_count": null,
   "id": "56edead2-39db-4ca6-8099-082ec4dc756a",
   "metadata": {},
   "outputs": [],
   "source": [
    "keep=['FECHA_FALLECIMIENTO','CLASIFICACION_DEF']\n",
    "d1a=d1.loc[:,keep].copy()"
   ]
  },
  {
   "cell_type": "code",
   "execution_count": null,
   "id": "816324fd-9983-4ee3-9cad-1f2ae8d69b9d",
   "metadata": {},
   "outputs": [],
   "source": [
    "d1a.FECHA_FALLECIMIENTO=pd.to_datetime(d1.FECHA_FALLECIMIENTO)\n",
    "d1a"
   ]
  },
  {
   "cell_type": "code",
   "execution_count": null,
   "id": "84e613f1-189b-45a3-bf49-0525037a1c75",
   "metadata": {},
   "outputs": [],
   "source": [
    "d1a.FECHA_FALLECIMIENTO = d1a.FECHA_FALLECIMIENTO.dt.strftime('%Y-%m')\n",
    "d1a"
   ]
  },
  {
   "cell_type": "code",
   "execution_count": null,
   "id": "e982b529-cbc1-4868-95b3-0748ec5b327f",
   "metadata": {},
   "outputs": [],
   "source": [
    "d1a = d1a.assign(CANTIDAD_fallecidos=1)\n",
    "d1a"
   ]
  },
  {
   "cell_type": "code",
   "execution_count": null,
   "id": "e0f515e9-b1c1-426d-9bd4-bfb589702a2e",
   "metadata": {},
   "outputs": [],
   "source": [
    "d1a.rename(columns={'FECHA_FALLECIMIENTO': 'FECHA_Fallecimiento', 'CLASIFICACION_DEF': 'Clasificacion_DEF'}, inplace=True)\n",
    "d1a"
   ]
  },
  {
   "cell_type": "code",
   "execution_count": null,
   "id": "39cacf01-295f-436c-a8dd-e7876feac977",
   "metadata": {},
   "outputs": [],
   "source": [
    "# sum of cases by region\n",
    "varsAggregated=['CANTIDAD_fallecidos']\n",
    "functionForVars='sum'\n",
    "df1=d1a.groupby('Clasificacion_DEF')[varsAggregated].agg(functionForVars)\n",
    "df1"
   ]
  },
  {
   "cell_type": "code",
   "execution_count": null,
   "id": "6745cde5-7d0c-40ee-8d63-5fef1e76c133",
   "metadata": {},
   "outputs": [],
   "source": [
    "# to wide\n",
    "d1b=pd.pivot_table(d1a,\n",
    "                               index=['FECHA_Fallecimiento'], # unit of analysis\n",
    "                               columns=['Clasificacion_DEF']) # the values for NEW column\n",
    "\n",
    "d1b"
   ]
  }
 ],
 "metadata": {
  "kernelspec": {
   "display_name": "Python 3 (ipykernel)",
   "language": "python",
   "name": "python3"
  },
  "language_info": {
   "codemirror_mode": {
    "name": "ipython",
    "version": 3
   },
   "file_extension": ".py",
   "mimetype": "text/x-python",
   "name": "python",
   "nbconvert_exporter": "python",
   "pygments_lexer": "ipython3",
   "version": "3.12.2"
  }
 },
 "nbformat": 4,
 "nbformat_minor": 5
}
